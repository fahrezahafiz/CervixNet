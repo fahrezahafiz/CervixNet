{
 "cells": [
  {
   "cell_type": "code",
   "execution_count": null,
   "metadata": {},
   "outputs": [],
   "source": [
    "from tensorflow import keras\n",
    "import tensorflow as tf\n",
    "import os"
   ]
  },
  {
   "cell_type": "markdown",
   "metadata": {},
   "source": [
    "## Constants and Functions"
   ]
  },
  {
   "cell_type": "code",
   "execution_count": 1,
   "metadata": {},
   "outputs": [],
   "source": [
    "import matplotlib.pyplot as plt\n",
    "\n",
    "SEED = 121199\n",
    "IMG_WIDTH = 256\n",
    "IMG_HEIGHT = 256\n",
    "EPOCHS = 50\n",
    "NUM_CLASSES = 5\n",
    "BATCH_SIZE = 32\n",
    "\n",
    "def visualize_result(his, epochs, filename):\n",
    "    acc = his.history['accuracy']\n",
    "    val_acc = his.history['val_accuracy']\n",
    "\n",
    "    loss = his.history['loss']\n",
    "    val_loss = his.history['val_loss']\n",
    "\n",
    "    epochs_range = range(epochs)\n",
    "\n",
    "    plt.figure(figsize=(8, 8))\n",
    "    plt.subplot(1, 2, 1)\n",
    "    plt.plot(epochs_range, acc, label='Training Accuracy')\n",
    "    plt.plot(epochs_range, val_acc, label='Validation Accuracy')\n",
    "    plt.legend(loc='lower right')\n",
    "    plt.title('Training and Validation Accuracy')\n",
    "\n",
    "    plt.subplot(1, 2, 2)\n",
    "    plt.plot(epochs_range, loss, label='Training Loss')\n",
    "    plt.plot(epochs_range, val_loss, label='Validation Loss')\n",
    "    plt.legend(loc='upper right')\n",
    "    plt.title('Training and Validation Loss')\n",
    "    plt.savefig(filename)\n",
    "    plt.show()"
   ]
  },
  {
   "cell_type": "markdown",
   "metadata": {},
   "source": [
    "## Acquire Data"
   ]
  },
  {
   "cell_type": "code",
   "execution_count": 4,
   "metadata": {},
   "outputs": [
    {
     "name": "stdout",
     "output_type": "stream",
     "text": [
      "Found 3237 images belonging to 5 classes.\n",
      "Found 604 images belonging to 5 classes.\n",
      "Found 208 images belonging to 5 classes.\n"
     ]
    }
   ],
   "source": [
    "from tensorflow.keras.preprocessing import image_dataset_from_directory\n",
    "from tensorflow.keras.preprocessing.image import ImageDataGenerator\n",
    "\n",
    "# import zipfile\n",
    "# with zipfile.ZipFile('dataset.zip', 'r') as zip_ref:\n",
    "#     zip_ref.extractall('.')\n",
    "\n",
    "train_datagen = ImageDataGenerator(\n",
    "    rescale=1./255,\n",
    "    horizontal_flip=True,\n",
    "    vertical_flip=True,\n",
    "    rotation_range=20)\n",
    "\n",
    "test_datagen = ImageDataGenerator(rescale=1./255)\n",
    "\n",
    "train_ds = train_datagen.flow_from_directory(\n",
    "    'dataset/train',\n",
    "    target_size=(IMG_WIDTH, IMG_HEIGHT),\n",
    "    batch_size=BATCH_SIZE,\n",
    ")\n",
    "\n",
    "val_ds = test_datagen.flow_from_directory(\n",
    "    'dataset/val',\n",
    "    target_size=(IMG_WIDTH, IMG_HEIGHT),\n",
    "    batch_size=BATCH_SIZE,\n",
    ")\n",
    "\n",
    "test_ds = test_datagen.flow_from_directory(\n",
    "    'dataset/test',\n",
    "    target_size=(IMG_WIDTH, IMG_HEIGHT),\n",
    "    batch_size=BATCH_SIZE,\n",
    ")"
   ]
  },
  {
   "cell_type": "markdown",
   "metadata": {},
   "source": [
    "## Model Architecture and HP Tuning"
   ]
  },
  {
   "cell_type": "code",
   "execution_count": 5,
   "metadata": {},
   "outputs": [],
   "source": [
    "from tensorflow.keras.applications import ResNet50V2\n",
    "import tensorflow.keras.layers as layers\n",
    "\n",
    "# -- CONVOLUTIONAL BASE -- #\n",
    "# resnet50_base = ResNet50V2(include_top=False, input_shape=(IMG_WIDTH, IMG_HEIGHT, 3))\n",
    "# resnet50_base.trainable = False\n",
    "\n",
    "resnet50_base_partial_frozen = ResNet50V2(include_top=False, input_shape=(IMG_WIDTH, IMG_HEIGHT, 3))\n",
    "for layer in resnet50_base_partial_frozen.layers[:(len(resnet50_base_partial_frozen.layers) - 36)]:\n",
    "    layer.trainable = False\n",
    "# resnet50_base_partial_frozen.summary()"
   ]
  },
  {
   "cell_type": "code",
   "execution_count": null,
   "metadata": {},
   "outputs": [],
   "source": [
    "from tensorflow.keras import Sequential\n",
    "from kerastuner import HyperModel, HyperParameters, RandomSearch\n",
    "import json\n",
    "\n",
    "# -- HYPER MODEL -- #\n",
    "class HyperCervixNet(HyperModel):\n",
    "    def __init__(self):\n",
    "        super().__init__()\n",
    "\n",
    "    def build(self, hp):\n",
    "        # hp search space\n",
    "        fc_units = hp.Int('fc_units', min_value=32, max_value=512,\n",
    "                          step=32, default=128)\n",
    "        fc_activation = hp.Choice('fc_activation',\n",
    "                                  values=['relu', 'tanh', 'sigmoid'],\n",
    "                                  default='relu')\n",
    "        # model assembly\n",
    "        cervix_net = Sequential([\n",
    "            layers.experimental.preprocessing.Rescaling(1. / 255, input_shape=(IMG_WIDTH, IMG_HEIGHT, 3)),\n",
    "            layers.experimental.preprocessing.RandomFlip(mode='horizontal_and_vertical'),\n",
    "            resnet50_base,\n",
    "            layers.GlobalAveragePooling2D(),\n",
    "            layers.Dense(fc_units, activation=fc_activation),       # fully connected layers\n",
    "            layers.Dense(NUM_CLASSES, activation='softmax')         # output layer\n",
    "        ])\n",
    "        \n",
    "        # decaying learning rate\n",
    "        lr_schedule = keras.optimizers.schedules.ExponentialDecay(\n",
    "            initial_learning_rate=1e-2,\n",
    "            decay_steps=10000,\n",
    "            decay_rate=0.9)\n",
    "        optimizer = keras.optimizers.Adam(learning_rate=lr_schedule)\n",
    "        # compile the model\n",
    "        cervix_net.compile(\n",
    "            optimizer=optimizer,\n",
    "            loss='categorical_crossentropy',\n",
    "            metrics=['accuracy'])\n",
    "        return cervix_net\n",
    "    \n",
    "hypermodel = HyperCervixNet()\n",
    "\n",
    "# -- TUNER -- #\n",
    "MAX_TRIALS = 10\n",
    "EXECUTION_PER_TRIAL = 2\n",
    "SEARCH_EPOCHS = 40\n",
    "\n",
    "tuner = RandomSearch(\n",
    "    hypermodel,\n",
    "    objective='val_accuracy',\n",
    "    seed=SEED,\n",
    "    max_trials=MAX_TRIALS,\n",
    "    executions_per_trial=EXECUTION_PER_TRIAL,\n",
    "    directory='random_search',\n",
    "    project_name='cervix_net',\n",
    ")\n",
    "tuner.search_space_summary()\n",
    "\n",
    "# x_train, y_train = [x, y for x, y in train_ds]\n",
    "tuner.search(train_ds, epochs=SEARCH_EPOCHS, validation_data=val_ds)\n",
    "# Show a summary of the search\n",
    "tuner.results_summary()\n",
    "best_hp = tuner.get_best_hyperparameters()[0]\n",
    "with open('resnet_best_hp.json', 'w') as f:\n",
    "    json.dump(best_hp.get_config(), f)\n",
    "# Retrieve the best model.\n",
    "best_model = tuner.get_best_models(num_models=1)[0]\n",
    "best_model.save('cervixnet_best_mt{}_ept{}_se{}.h5'.format(MAX_TRIALS, EXECUTION_PER_TRIAL, SEARCH_EPOCHS))\n",
    "# Evaluate the best model.\n",
    "loss, acc = best_model.evaluate(test_ds)\n",
    "print('Loss: {}\\nAccuracy: {}'.format(loss, acc))"
   ]
  },
  {
   "cell_type": "markdown",
   "metadata": {},
   "source": [
    "## Refitting the Model"
   ]
  },
  {
   "cell_type": "code",
   "execution_count": null,
   "metadata": {},
   "outputs": [],
   "source": [
    "fit_callbacks = [\n",
    "    tf.keras.callbacks.EarlyStopping(\n",
    "        monitor='val_loss', min_delta=1e-4, patience=5,\n",
    "        mode='auto', baseline=0.01, restore_best_weights=False)\n",
    "]\n",
    "history = best_model.fit(train_ds, epochs=EPOCHS, validation_data=val_ds, verbose=2)\n",
    "print(history.history)\n",
    "n_epochs_best = len(history.history['val_loss'])\n",
    "\n",
    "filename = 'resnet_best_refit_e{}'.format(n_epochs_best)\n",
    "best_model.save('models/{}.h5'.format(filename))\n",
    "visualize_result(history, n_epochs_best, 'img/' + filename + '.png')"
   ]
  },
  {
   "cell_type": "markdown",
   "metadata": {},
   "source": [
    "## Partial-freeze ResNet"
   ]
  },
  {
   "cell_type": "code",
   "execution_count": 1,
   "metadata": {},
   "outputs": [
    {
     "ename": "NameError",
     "evalue": "name 'resnet50_base_partial_frozen' is not defined",
     "output_type": "error",
     "traceback": [
      "\u001b[0;31m---------------------------------------------------------------------------\u001b[0m",
      "\u001b[0;31mNameError\u001b[0m                                 Traceback (most recent call last)",
      "\u001b[0;32m<ipython-input-1-61ef89d87005>\u001b[0m in \u001b[0;36m<module>\u001b[0;34m\u001b[0m\n\u001b[1;32m      4\u001b[0m \u001b[0;31m#     layers.experimental.preprocessing.Rescaling(1. / 255, input_shape=(IMG_WIDTH, IMG_HEIGHT, 3)),\u001b[0m\u001b[0;34m\u001b[0m\u001b[0;34m\u001b[0m\u001b[0;34m\u001b[0m\u001b[0m\n\u001b[1;32m      5\u001b[0m \u001b[0;31m#     layers.experimental.preprocessing.RandomFlip(mode='horizontal_and_vertical'),\u001b[0m\u001b[0;34m\u001b[0m\u001b[0;34m\u001b[0m\u001b[0;34m\u001b[0m\u001b[0m\n\u001b[0;32m----> 6\u001b[0;31m     \u001b[0mresnet50_base_partial_frozen\u001b[0m\u001b[0;34m,\u001b[0m\u001b[0;34m\u001b[0m\u001b[0;34m\u001b[0m\u001b[0m\n\u001b[0m\u001b[1;32m      7\u001b[0m     \u001b[0mlayers\u001b[0m\u001b[0;34m.\u001b[0m\u001b[0mGlobalAveragePooling2D\u001b[0m\u001b[0;34m(\u001b[0m\u001b[0;34m)\u001b[0m\u001b[0;34m,\u001b[0m\u001b[0;34m\u001b[0m\u001b[0;34m\u001b[0m\u001b[0m\n\u001b[1;32m      8\u001b[0m     \u001b[0mlayers\u001b[0m\u001b[0;34m.\u001b[0m\u001b[0mDropout\u001b[0m\u001b[0;34m(\u001b[0m\u001b[0;36m.2\u001b[0m\u001b[0;34m,\u001b[0m \u001b[0mseed\u001b[0m\u001b[0;34m=\u001b[0m\u001b[0mSEED\u001b[0m\u001b[0;34m)\u001b[0m\u001b[0;34m,\u001b[0m\u001b[0;34m\u001b[0m\u001b[0;34m\u001b[0m\u001b[0m\n",
      "\u001b[0;31mNameError\u001b[0m: name 'resnet50_base_partial_frozen' is not defined"
     ]
    }
   ],
   "source": [
    "from tensorflow.keras import Sequential\n",
    "\n",
    "resnet_partial = Sequential([\n",
    "#     layers.experimental.preprocessing.Rescaling(1. / 255, input_shape=(IMG_WIDTH, IMG_HEIGHT, 3)),\n",
    "#     layers.experimental.preprocessing.RandomFlip(mode='horizontal_and_vertical'),\n",
    "    resnet50_base_partial_frozen,\n",
    "    layers.GlobalAveragePooling2D(),\n",
    "    layers.Dropout(.2, seed=SEED),\n",
    "    layers.Dense(256, activation='relu'),\n",
    "    layers.Dense(NUM_CLASSES, activation='softmax')\n",
    "])\n",
    "resnet_partial.summary()\n",
    "# decaying learning rate\n",
    "lr_schedule = keras.optimizers.schedules.ExponentialDecay(\n",
    "    initial_learning_rate=1e-2,\n",
    "    decay_steps=10000,\n",
    "    decay_rate=0.9)\n",
    "optimizer = keras.optimizers.Adam(learning_rate=lr_schedule)\n",
    "# compile the model\n",
    "resnet_partial.compile(\n",
    "    optimizer=optimizer,\n",
    "    loss='categorical_crossentropy',\n",
    "    metrics=['accuracy'])\n",
    "\n",
    "keras.utils.plot_model(resnet_partial, \"img/resnet_partial_arch.png\", show_shapes=True)"
   ]
  },
  {
   "cell_type": "code",
   "execution_count": 50,
   "metadata": {},
   "outputs": [
    {
     "name": "stdout",
     "output_type": "stream",
     "text": [
      "Epoch 1/100\n",
      "102/102 - 37s - loss: 0.1562 - accuracy: 0.9589 - val_loss: 0.4956 - val_accuracy: 0.9238\n",
      "Epoch 2/100\n",
      "102/102 - 36s - loss: 0.1398 - accuracy: 0.9635 - val_loss: 0.3499 - val_accuracy: 0.9305\n",
      "Epoch 3/100\n",
      "102/102 - 36s - loss: 0.0953 - accuracy: 0.9731 - val_loss: 0.3466 - val_accuracy: 0.9338\n",
      "Epoch 4/100\n",
      "102/102 - 36s - loss: 0.0958 - accuracy: 0.9710 - val_loss: 1.0432 - val_accuracy: 0.9156\n",
      "Epoch 5/100\n",
      "102/102 - 36s - loss: 0.0760 - accuracy: 0.9812 - val_loss: 1.5427 - val_accuracy: 0.8791\n",
      "Epoch 6/100\n",
      "102/102 - 36s - loss: 0.0775 - accuracy: 0.9768 - val_loss: 1.8761 - val_accuracy: 0.9288\n",
      "Epoch 7/100\n",
      "102/102 - 36s - loss: 1.0366 - accuracy: 0.9438 - val_loss: 33.2773 - val_accuracy: 0.9123\n",
      "Epoch 8/100\n",
      "102/102 - 36s - loss: 0.1000 - accuracy: 0.9673 - val_loss: 2.7849 - val_accuracy: 0.9387\n",
      "Epoch 9/100\n",
      "102/102 - 36s - loss: 0.0951 - accuracy: 0.9728 - val_loss: 1.1524 - val_accuracy: 0.9338\n",
      "Epoch 10/100\n",
      "102/102 - 36s - loss: 0.0712 - accuracy: 0.9774 - val_loss: 0.8049 - val_accuracy: 0.9387\n",
      "Epoch 11/100\n",
      "102/102 - 36s - loss: 0.0546 - accuracy: 0.9818 - val_loss: 0.7688 - val_accuracy: 0.9321\n",
      "Epoch 12/100\n",
      "102/102 - 36s - loss: 0.0402 - accuracy: 0.9867 - val_loss: 0.8191 - val_accuracy: 0.9354\n",
      "Epoch 13/100\n",
      "102/102 - 36s - loss: 0.0389 - accuracy: 0.9858 - val_loss: 0.6825 - val_accuracy: 0.9454\n",
      "Epoch 14/100\n",
      "102/102 - 36s - loss: 0.0338 - accuracy: 0.9864 - val_loss: 0.7125 - val_accuracy: 0.9354\n",
      "Epoch 15/100\n",
      "102/102 - 36s - loss: 0.0367 - accuracy: 0.9883 - val_loss: 0.7272 - val_accuracy: 0.9387\n",
      "Epoch 16/100\n",
      "102/102 - 36s - loss: 0.0352 - accuracy: 0.9864 - val_loss: 0.6759 - val_accuracy: 0.9520\n",
      "Epoch 17/100\n",
      "102/102 - 36s - loss: 0.0329 - accuracy: 0.9880 - val_loss: 0.8160 - val_accuracy: 0.9321\n",
      "Epoch 18/100\n",
      "102/102 - 36s - loss: 0.0441 - accuracy: 0.9880 - val_loss: 0.5283 - val_accuracy: 0.9321\n",
      "Epoch 19/100\n",
      "102/102 - 36s - loss: 0.0382 - accuracy: 0.9864 - val_loss: 0.5150 - val_accuracy: 0.9305\n",
      "Epoch 20/100\n",
      "102/102 - 36s - loss: 0.0309 - accuracy: 0.9907 - val_loss: 0.7028 - val_accuracy: 0.9222\n",
      "Epoch 21/100\n",
      "102/102 - 36s - loss: 0.0274 - accuracy: 0.9910 - val_loss: 0.6574 - val_accuracy: 0.9371\n",
      "Epoch 22/100\n",
      "102/102 - 36s - loss: 0.0164 - accuracy: 0.9944 - val_loss: 0.7379 - val_accuracy: 0.9437\n",
      "Epoch 23/100\n",
      "102/102 - 36s - loss: 0.0116 - accuracy: 0.9966 - val_loss: 0.7571 - val_accuracy: 0.9404\n",
      "Epoch 24/100\n",
      "102/102 - 36s - loss: 0.0150 - accuracy: 0.9944 - val_loss: 0.7271 - val_accuracy: 0.9189\n",
      "Epoch 25/100\n",
      "102/102 - 36s - loss: 0.0195 - accuracy: 0.9938 - val_loss: 0.7078 - val_accuracy: 0.9272\n",
      "Epoch 26/100\n",
      "102/102 - 36s - loss: 0.0288 - accuracy: 0.9910 - val_loss: 0.7937 - val_accuracy: 0.9288\n",
      "Training time: 0:15:43.761275\n"
     ]
    },
    {
     "data": {
      "image/png": "[encoded data removed]",
      "text/plain": [
       "<Figure size 576x576 with 2 Axes>"
      ]
     },
     "metadata": {
      "needs_background": "light"
     },
     "output_type": "display_data"
    },
    {
     "name": "stdout",
     "output_type": "stream",
     "text": [
      "7/7 [==============================] - ETA: 0s - loss: 0.6036 - accuracy: 0.90 - ETA: 0s - loss: 0.3076 - accuracy: 0.95 - ETA: 0s - loss: 0.3984 - accuracy: 0.95 - ETA: 0s - loss: 0.3794 - accuracy: 0.94 - ETA: 0s - loss: 0.3058 - accuracy: 0.95 - ETA: 0s - loss: 0.2559 - accuracy: 0.96 - ETA: 0s - loss: 0.2382 - accuracy: 0.96 - 1s 182ms/step - loss: 0.2382 - accuracy: 0.9663\n",
      "Loss: 0.23818445205688477\n",
      "Accuracy: 0.9663461446762085\n"
     ]
    }
   ],
   "source": [
    "import datetime\n",
    "import time\n",
    "\n",
    "fit_callbacks = [\n",
    "    tf.keras.callbacks.EarlyStopping(\n",
    "        monitor='val_accuracy', min_delta=1e-4, patience=10,\n",
    "        mode='max', baseline=None, restore_best_weights=True)\n",
    "]\n",
    "\n",
    "start = time.time()\n",
    "history = resnet_partial.fit(train_ds, epochs=100, validation_data=val_ds, verbose=2, callbacks=fit_callbacks)\n",
    "end = time.time() - start\n",
    "print('Training time: {}'.format(datetime.timedelta(seconds=end)))\n",
    "\n",
    "n_epochs_best = len(history.history['val_loss'])\n",
    "filename = 'resnet_partial_besthp_fit_e{}'.format(n_epochs_best)\n",
    "resnet_partial.save('models/{}.h5'.format(filename))\n",
    "visualize_result(history, n_epochs_best, 'img/' + filename + '.png')\n",
    "\n",
    "loss, acc = resnet_partial.evaluate(test_ds)\n",
    "print('Loss: {}\\nAccuracy: {}'.format(loss, acc))"
   ]
  },
  {
   "cell_type": "code",
   "execution_count": null,
   "metadata": {},
   "outputs": [],
   "source": []
  }
 ],
 "metadata": {
  "environment": {
   "name": "tf2-2-3-gpu.2-3.m59",
   "type": "gcloud",
   "uri": "gcr.io/deeplearning-platform-release/tf2-2-3-gpu.2-3:m59"
  },
  "instance_type": "ml.t3.medium",
  "kernelspec": {
   "display_name": "Python 3",
   "language": "python",
   "name": "python3"
  },
  "language_info": {
   "codemirror_mode": {
    "name": "ipython",
    "version": 3
   },
   "file_extension": ".py",
   "mimetype": "text/x-python",
   "name": "python",
   "nbconvert_exporter": "python",
   "pygments_lexer": "ipython3",
   "version": "3.7.8"
  }
 },
 "nbformat": 4,
 "nbformat_minor": 4
}
